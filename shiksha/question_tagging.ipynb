{
 "cells": [
  {
   "cell_type": "code",
   "execution_count": 1,
   "metadata": {},
   "outputs": [],
   "source": [
    "import pandas as pd\n",
    "import re\n",
    "import warnings\n",
    "warnings.filterwarnings(\"ignore\")"
   ]
  },
  {
   "cell_type": "code",
   "execution_count": 2,
   "metadata": {},
   "outputs": [],
   "source": [
    "directory = \"D:\\\\#Data\\\\Scraped Data\\\\Shiksha\"\n",
    "filename = \"bits_pilani.csv\"\n",
    "question_data = pd.read_csv(f\"{directory}\\\\{filename}\")\n",
    "\n",
    "tag_data = pd.read_csv(\"D:\\\\#Data\\\\Rough Data\\\\tag_list.csv\")"
   ]
  },
  {
   "cell_type": "code",
   "execution_count": 3,
   "metadata": {},
   "outputs": [
    {
     "data": {
      "text/plain": [
       "(1850, 3)"
      ]
     },
     "execution_count": 3,
     "metadata": {},
     "output_type": "execute_result"
    }
   ],
   "source": [
    "question_data.shape"
   ]
  },
  {
   "cell_type": "code",
   "execution_count": 4,
   "metadata": {},
   "outputs": [
    {
     "data": {
      "text/plain": [
       "(171, 2)"
      ]
     },
     "execution_count": 4,
     "metadata": {},
     "output_type": "execute_result"
    }
   ],
   "source": [
    "tag_data.shape"
   ]
  },
  {
   "cell_type": "code",
   "execution_count": 5,
   "metadata": {},
   "outputs": [],
   "source": [
    "def match_keywords(question, keywords):\n",
    "    matched_keywords = []\n",
    "    matched_categories = set()\n",
    "\n",
    "    if re.search(r\"\\bIT\\b\", question):\n",
    "        matched_keywords.append(\"IT\")\n",
    "        matched_categories.add(\"courses\")\n",
    "\n",
    "    if re.search(r\"\\bCS\\b\", question):\n",
    "        matched_keywords.append(\"CS\")\n",
    "        matched_categories.add(\"courses\")\n",
    "\n",
    "    if re.search(r\"\\b\\d{1,3}%\\b\", question):\n",
    "        matched_keywords.append(\"%\")\n",
    "        matched_categories.add(\"admissions\")\n",
    "\n",
    "    if re.search(r\"percentile[?.,]?\", question, re.IGNORECASE):\n",
    "        matched_keywords.append(\"percentile\")\n",
    "        matched_categories.add(\"admissions\")\n",
    "\n",
    "    for index, row in keywords.iterrows():\n",
    "        # Avoid adding \"IT\", \"CS\" again if it's already added\n",
    "        if row[\"keyword\"].lower() == \"it\" or row[\"keyword\"].lower() == \"cs\":\n",
    "            continue\n",
    "        elif re.search(\n",
    "            r\"\\b{}\\b\".format(re.escape(row[\"keyword\"])), question, re.IGNORECASE\n",
    "        ):\n",
    "            matched_keywords.append(row[\"keyword\"])\n",
    "            matched_categories.add(row[\"subcategory\"])\n",
    "\n",
    "    return \", \".join(matched_keywords), \", \".join(matched_categories)"
   ]
  },
  {
   "cell_type": "code",
   "execution_count": 6,
   "metadata": {},
   "outputs": [],
   "source": [
    "question_data['views'] = pd.to_numeric(question_data['views'], errors='coerce')\n",
    "question_data['views'].fillna(0, inplace=True)\n",
    "question_data['views'] = question_data['views'].astype(int)"
   ]
  },
  {
   "cell_type": "code",
   "execution_count": 10,
   "metadata": {},
   "outputs": [],
   "source": [
    "question_data[\"keyword\"], question_data[\"category\"] = zip(\n",
    "    *question_data[\"question\"].apply(lambda x: match_keywords(x, tag_data))\n",
    ")"
   ]
  },
  {
   "cell_type": "code",
   "execution_count": 11,
   "metadata": {},
   "outputs": [],
   "source": [
    "question_data.loc[question_data['keyword'] == '', 'category'] = ''"
   ]
  },
  {
   "cell_type": "code",
   "execution_count": 12,
   "metadata": {},
   "outputs": [
    {
     "data": {
      "text/html": [
       "<div>\n",
       "<style scoped>\n",
       "    .dataframe tbody tr th:only-of-type {\n",
       "        vertical-align: middle;\n",
       "    }\n",
       "\n",
       "    .dataframe tbody tr th {\n",
       "        vertical-align: top;\n",
       "    }\n",
       "\n",
       "    .dataframe thead th {\n",
       "        text-align: right;\n",
       "    }\n",
       "</style>\n",
       "<table border=\"1\" class=\"dataframe\">\n",
       "  <thead>\n",
       "    <tr style=\"text-align: right;\">\n",
       "      <th></th>\n",
       "      <th>question</th>\n",
       "      <th>views</th>\n",
       "      <th>posted</th>\n",
       "      <th>keyword</th>\n",
       "      <th>category</th>\n",
       "    </tr>\n",
       "  </thead>\n",
       "  <tbody>\n",
       "    <tr>\n",
       "      <th>0</th>\n",
       "      <td>What is the placement record of LPU compared t...</td>\n",
       "      <td>1000</td>\n",
       "      <td>2 weeks ago</td>\n",
       "      <td>stream, CSE, placement</td>\n",
       "      <td>placements, courses</td>\n",
       "    </tr>\n",
       "    <tr>\n",
       "      <th>1</th>\n",
       "      <td>I want to get admission to BITs but my PCM agg...</td>\n",
       "      <td>34</td>\n",
       "      <td>22 hours ago</td>\n",
       "      <td>admission, PCM</td>\n",
       "      <td>admissions</td>\n",
       "    </tr>\n",
       "    <tr>\n",
       "      <th>2</th>\n",
       "      <td>What is the BITS Pilani Goa BSc registration fee?</td>\n",
       "      <td>5</td>\n",
       "      <td>a week ago</td>\n",
       "      <td>fee, BSc, registration</td>\n",
       "      <td>courses, admissions</td>\n",
       "    </tr>\n",
       "    <tr>\n",
       "      <th>3</th>\n",
       "      <td>Does BITS Pilani Goa offers any internship for...</td>\n",
       "      <td>5</td>\n",
       "      <td>a week ago</td>\n",
       "      <td>course, BSc, internship</td>\n",
       "      <td>placements, courses</td>\n",
       "    </tr>\n",
       "    <tr>\n",
       "      <th>4</th>\n",
       "      <td>How can I prepare for BITS without taking help...</td>\n",
       "      <td>35</td>\n",
       "      <td>Yesterday</td>\n",
       "      <td>prepare for</td>\n",
       "      <td>admissions</td>\n",
       "    </tr>\n",
       "    <tr>\n",
       "      <th>5</th>\n",
       "      <td>Does BITS Pilani offers scholarships?</td>\n",
       "      <td>0</td>\n",
       "      <td>a week ago</td>\n",
       "      <td>scholarships</td>\n",
       "      <td>scholarships</td>\n",
       "    </tr>\n",
       "    <tr>\n",
       "      <th>6</th>\n",
       "      <td>What are the eligibility criteria for admissio...</td>\n",
       "      <td>10</td>\n",
       "      <td>2 weeks ago</td>\n",
       "      <td>admission, eligibility</td>\n",
       "      <td>admissions</td>\n",
       "    </tr>\n",
       "    <tr>\n",
       "      <th>7</th>\n",
       "      <td>Is BITS, Goa campus better than the BITS, Pila...</td>\n",
       "      <td>517</td>\n",
       "      <td>a month ago</td>\n",
       "      <td></td>\n",
       "      <td></td>\n",
       "    </tr>\n",
       "    <tr>\n",
       "      <th>8</th>\n",
       "      <td>Is JEE Main enough for BITS Pilani BTech admis...</td>\n",
       "      <td>539</td>\n",
       "      <td>a month ago</td>\n",
       "      <td>BTech, admission, JEE</td>\n",
       "      <td>cutoff, courses, admissions</td>\n",
       "    </tr>\n",
       "    <tr>\n",
       "      <th>9</th>\n",
       "      <td>Can I get admission to BSc without any entranc...</td>\n",
       "      <td>2</td>\n",
       "      <td>a week ago</td>\n",
       "      <td>BSc, admission, exam, entrance exam</td>\n",
       "      <td>courses, admissions</td>\n",
       "    </tr>\n",
       "    <tr>\n",
       "      <th>10</th>\n",
       "      <td>Is BITS Pilani BSc application process conduct...</td>\n",
       "      <td>3</td>\n",
       "      <td>a week ago</td>\n",
       "      <td>BSc, application</td>\n",
       "      <td>courses, admissions</td>\n",
       "    </tr>\n",
       "    <tr>\n",
       "      <th>11</th>\n",
       "      <td>How to get admission in BITS Pilani Goa for BSc?</td>\n",
       "      <td>0</td>\n",
       "      <td>a week ago</td>\n",
       "      <td>BSc, admission</td>\n",
       "      <td>courses, admissions</td>\n",
       "    </tr>\n",
       "    <tr>\n",
       "      <th>12</th>\n",
       "      <td>I have got 70% in 12th CBSE and want to increa...</td>\n",
       "      <td>1900</td>\n",
       "      <td>6 years ago</td>\n",
       "      <td>exams, eligible, 12th</td>\n",
       "      <td>admissions</td>\n",
       "    </tr>\n",
       "    <tr>\n",
       "      <th>13</th>\n",
       "      <td>What are BSc specialisations offered at BITS P...</td>\n",
       "      <td>4</td>\n",
       "      <td>a week ago</td>\n",
       "      <td>BSc</td>\n",
       "      <td>courses</td>\n",
       "    </tr>\n",
       "    <tr>\n",
       "      <th>14</th>\n",
       "      <td>What is the fees for the BSc course at BITS Goa?</td>\n",
       "      <td>0</td>\n",
       "      <td>a week ago</td>\n",
       "      <td>course, fees, BSc</td>\n",
       "      <td>courses</td>\n",
       "    </tr>\n",
       "  </tbody>\n",
       "</table>\n",
       "</div>"
      ],
      "text/plain": [
       "                                             question  views        posted  \\\n",
       "0   What is the placement record of LPU compared t...   1000   2 weeks ago   \n",
       "1   I want to get admission to BITs but my PCM agg...     34  22 hours ago   \n",
       "2   What is the BITS Pilani Goa BSc registration fee?      5    a week ago   \n",
       "3   Does BITS Pilani Goa offers any internship for...      5    a week ago   \n",
       "4   How can I prepare for BITS without taking help...     35     Yesterday   \n",
       "5               Does BITS Pilani offers scholarships?      0    a week ago   \n",
       "6   What are the eligibility criteria for admissio...     10   2 weeks ago   \n",
       "7   Is BITS, Goa campus better than the BITS, Pila...    517   a month ago   \n",
       "8   Is JEE Main enough for BITS Pilani BTech admis...    539   a month ago   \n",
       "9   Can I get admission to BSc without any entranc...      2    a week ago   \n",
       "10  Is BITS Pilani BSc application process conduct...      3    a week ago   \n",
       "11   How to get admission in BITS Pilani Goa for BSc?      0    a week ago   \n",
       "12  I have got 70% in 12th CBSE and want to increa...   1900   6 years ago   \n",
       "13  What are BSc specialisations offered at BITS P...      4    a week ago   \n",
       "14   What is the fees for the BSc course at BITS Goa?      0    a week ago   \n",
       "\n",
       "                                keyword                     category  \n",
       "0                stream, CSE, placement          placements, courses  \n",
       "1                        admission, PCM                   admissions  \n",
       "2                fee, BSc, registration          courses, admissions  \n",
       "3               course, BSc, internship          placements, courses  \n",
       "4                           prepare for                   admissions  \n",
       "5                          scholarships                 scholarships  \n",
       "6                admission, eligibility                   admissions  \n",
       "7                                                                     \n",
       "8                 BTech, admission, JEE  cutoff, courses, admissions  \n",
       "9   BSc, admission, exam, entrance exam          courses, admissions  \n",
       "10                     BSc, application          courses, admissions  \n",
       "11                       BSc, admission          courses, admissions  \n",
       "12                exams, eligible, 12th                   admissions  \n",
       "13                                  BSc                      courses  \n",
       "14                    course, fees, BSc                      courses  "
      ]
     },
     "execution_count": 12,
     "metadata": {},
     "output_type": "execute_result"
    }
   ],
   "source": [
    "question_data.head(15)"
   ]
  },
  {
   "cell_type": "code",
   "execution_count": 13,
   "metadata": {},
   "outputs": [
    {
     "data": {
      "text/plain": [
       "(1850, 5)"
      ]
     },
     "execution_count": 13,
     "metadata": {},
     "output_type": "execute_result"
    }
   ],
   "source": [
    "question_data.shape"
   ]
  },
  {
   "cell_type": "code",
   "execution_count": 14,
   "metadata": {},
   "outputs": [
    {
     "name": "stdout",
     "output_type": "stream",
     "text": [
      "Number of empty or NaN entries in 'keyword' column: 261\n"
     ]
    }
   ],
   "source": [
    "empty_or_nan_keywords = (\n",
    "    question_data[\"keyword\"].apply(lambda x: x in [None, \"\", \" \"]).sum()\n",
    ")\n",
    "print(f\"Number of empty or NaN entries in 'keyword' column: {empty_or_nan_keywords}\")"
   ]
  },
  {
   "cell_type": "code",
   "execution_count": 15,
   "metadata": {},
   "outputs": [],
   "source": [
    "save_directory = \"D:\\\\#Data\\\\Scraped Data\\\\Shiksha\"\n",
    "filename = \"bits_pilani_questions_tagged.csv\"\n",
    "question_data.to_csv(f\"{save_directory}\\\\{filename}\", index=False)"
   ]
  },
  {
   "cell_type": "code",
   "execution_count": null,
   "metadata": {},
   "outputs": [],
   "source": []
  }
 ],
 "metadata": {
  "kernelspec": {
   "display_name": "Python 3",
   "language": "python",
   "name": "python3"
  },
  "language_info": {
   "codemirror_mode": {
    "name": "ipython",
    "version": 3
   },
   "file_extension": ".py",
   "mimetype": "text/x-python",
   "name": "python",
   "nbconvert_exporter": "python",
   "pygments_lexer": "ipython3",
   "version": "3.12.1"
  }
 },
 "nbformat": 4,
 "nbformat_minor": 2
}
