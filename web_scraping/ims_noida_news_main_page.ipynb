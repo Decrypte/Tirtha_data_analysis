{
 "cells": [
  {
   "cell_type": "code",
   "execution_count": 1,
   "metadata": {},
   "outputs": [],
   "source": [
    "import requests\n",
    "from bs4 import BeautifulSoup\n",
    "import pandas as pd"
   ]
  },
  {
   "cell_type": "code",
   "execution_count": 2,
   "metadata": {},
   "outputs": [],
   "source": [
    "url = \"https://imsnoida.com/blog-full-right-sidebar-with-frame/\"\n",
    "\n",
    "urls = []\n",
    "titles = []\n",
    "links = []"
   ]
  },
  {
   "cell_type": "code",
   "execution_count": 3,
   "metadata": {},
   "outputs": [],
   "source": [
    "response = requests.get(url)\n",
    "\n",
    "soup = BeautifulSoup(response.content, \"html.parser\")\n",
    "\n",
    "for h3 in soup.find_all(\"h3\"):\n",
    "    link = h3.find(\"a\")\n",
    "    if link:\n",
    "        titles.append(link.get_text(strip=True))\n",
    "        links.append(link[\"href\"])\n",
    "        urls.append(url)"
   ]
  },
  {
   "cell_type": "code",
   "execution_count": 4,
   "metadata": {},
   "outputs": [
    {
     "data": {
      "text/html": [
       "<div>\n",
       "<style scoped>\n",
       "    .dataframe tbody tr th:only-of-type {\n",
       "        vertical-align: middle;\n",
       "    }\n",
       "\n",
       "    .dataframe tbody tr th {\n",
       "        vertical-align: top;\n",
       "    }\n",
       "\n",
       "    .dataframe thead th {\n",
       "        text-align: right;\n",
       "    }\n",
       "</style>\n",
       "<table border=\"1\" class=\"dataframe\">\n",
       "  <thead>\n",
       "    <tr style=\"text-align: right;\">\n",
       "      <th></th>\n",
       "      <th>URL</th>\n",
       "      <th>News Title</th>\n",
       "      <th>News Link</th>\n",
       "    </tr>\n",
       "  </thead>\n",
       "  <tbody>\n",
       "    <tr>\n",
       "      <th>0</th>\n",
       "      <td>https://imsnoida.com/blog-full-right-sidebar-w...</td>\n",
       "      <td>G-20 University Connect Finale- Jan Bhagidari</td>\n",
       "      <td>https://imsnoida.com/g-20-university-connect-f...</td>\n",
       "    </tr>\n",
       "    <tr>\n",
       "      <th>1</th>\n",
       "      <td>https://imsnoida.com/blog-full-right-sidebar-w...</td>\n",
       "      <td>Advantages of Pursuing BA-JMC as Your Career P...</td>\n",
       "      <td>https://imsnoida.com/advantages-of-pursuing-ba...</td>\n",
       "    </tr>\n",
       "    <tr>\n",
       "      <th>2</th>\n",
       "      <td>https://imsnoida.com/blog-full-right-sidebar-w...</td>\n",
       "      <td>Unlocking the Secrets to a Premier BBA College...</td>\n",
       "      <td>https://imsnoida.com/unlocking-the-secrets-to-...</td>\n",
       "    </tr>\n",
       "    <tr>\n",
       "      <th>3</th>\n",
       "      <td>https://imsnoida.com/blog-full-right-sidebar-w...</td>\n",
       "      <td>Choosing the Best BCA College for a Successful...</td>\n",
       "      <td>https://imsnoida.com/choosing-the-best-bca-col...</td>\n",
       "    </tr>\n",
       "    <tr>\n",
       "      <th>4</th>\n",
       "      <td>https://imsnoida.com/blog-full-right-sidebar-w...</td>\n",
       "      <td>Why Pursue a BBA from IMS Noida?</td>\n",
       "      <td>https://imsnoida.com/why-pursue-a-bba-from-ims...</td>\n",
       "    </tr>\n",
       "  </tbody>\n",
       "</table>\n",
       "</div>"
      ],
      "text/plain": [
       "                                                 URL  \\\n",
       "0  https://imsnoida.com/blog-full-right-sidebar-w...   \n",
       "1  https://imsnoida.com/blog-full-right-sidebar-w...   \n",
       "2  https://imsnoida.com/blog-full-right-sidebar-w...   \n",
       "3  https://imsnoida.com/blog-full-right-sidebar-w...   \n",
       "4  https://imsnoida.com/blog-full-right-sidebar-w...   \n",
       "\n",
       "                                          News Title  \\\n",
       "0      G-20 University Connect Finale- Jan Bhagidari   \n",
       "1  Advantages of Pursuing BA-JMC as Your Career P...   \n",
       "2  Unlocking the Secrets to a Premier BBA College...   \n",
       "3  Choosing the Best BCA College for a Successful...   \n",
       "4                   Why Pursue a BBA from IMS Noida?   \n",
       "\n",
       "                                           News Link  \n",
       "0  https://imsnoida.com/g-20-university-connect-f...  \n",
       "1  https://imsnoida.com/advantages-of-pursuing-ba...  \n",
       "2  https://imsnoida.com/unlocking-the-secrets-to-...  \n",
       "3  https://imsnoida.com/choosing-the-best-bca-col...  \n",
       "4  https://imsnoida.com/why-pursue-a-bba-from-ims...  "
      ]
     },
     "execution_count": 4,
     "metadata": {},
     "output_type": "execute_result"
    }
   ],
   "source": [
    "data = pd.DataFrame({\"URL\": urls, \"News Title\": titles, \"News Link\": links})\n",
    "\n",
    "data"
   ]
  },
  {
   "cell_type": "code",
   "execution_count": null,
   "metadata": {},
   "outputs": [],
   "source": []
  }
 ],
 "metadata": {
  "kernelspec": {
   "display_name": "env",
   "language": "python",
   "name": "python3"
  },
  "language_info": {
   "codemirror_mode": {
    "name": "ipython",
    "version": 3
   },
   "file_extension": ".py",
   "mimetype": "text/x-python",
   "name": "python",
   "nbconvert_exporter": "python",
   "pygments_lexer": "ipython3",
   "version": "3.12.1"
  }
 },
 "nbformat": 4,
 "nbformat_minor": 2
}
